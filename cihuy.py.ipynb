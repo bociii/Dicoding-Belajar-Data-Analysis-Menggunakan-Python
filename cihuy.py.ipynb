{
 "cells": [
  {
   "cell_type": "code",
   "execution_count": 2,
   "metadata": {},
   "outputs": [
    {
     "name": "stdout",
     "output_type": "stream",
     "text": [
      "Collecting babel\n",
      "  Downloading babel-2.16.0-py3-none-any.whl.metadata (1.5 kB)\n",
      "Downloading babel-2.16.0-py3-none-any.whl (9.6 MB)\n",
      "   ---------------------------------------- 0.0/9.6 MB ? eta -:--:--\n",
      "    --------------------------------------- 0.2/9.6 MB 4.1 MB/s eta 0:00:03\n",
      "   - -------------------------------------- 0.4/9.6 MB 4.0 MB/s eta 0:00:03\n",
      "   -- ------------------------------------- 0.6/9.6 MB 3.9 MB/s eta 0:00:03\n",
      "   --- ------------------------------------ 0.7/9.6 MB 3.9 MB/s eta 0:00:03\n",
      "   --- ------------------------------------ 0.9/9.6 MB 3.9 MB/s eta 0:00:03\n",
      "   ---- ----------------------------------- 1.0/9.6 MB 3.9 MB/s eta 0:00:03\n",
      "   ----- ---------------------------------- 1.2/9.6 MB 3.7 MB/s eta 0:00:03\n",
      "   ----- ---------------------------------- 1.4/9.6 MB 3.8 MB/s eta 0:00:03\n",
      "   ------ --------------------------------- 1.6/9.6 MB 3.8 MB/s eta 0:00:03\n",
      "   ------- -------------------------------- 1.8/9.6 MB 3.9 MB/s eta 0:00:02\n",
      "   -------- ------------------------------- 2.0/9.6 MB 3.8 MB/s eta 0:00:02\n",
      "   --------- ------------------------------ 2.2/9.6 MB 3.8 MB/s eta 0:00:02\n",
      "   ---------- ----------------------------- 2.4/9.6 MB 3.9 MB/s eta 0:00:02\n",
      "   ---------- ----------------------------- 2.6/9.6 MB 3.9 MB/s eta 0:00:02\n",
      "   ----------- ---------------------------- 2.8/9.6 MB 3.9 MB/s eta 0:00:02\n",
      "   ------------ --------------------------- 3.0/9.6 MB 4.0 MB/s eta 0:00:02\n",
      "   ------------- -------------------------- 3.2/9.6 MB 4.0 MB/s eta 0:00:02\n",
      "   -------------- ------------------------- 3.4/9.6 MB 4.0 MB/s eta 0:00:02\n",
      "   --------------- ------------------------ 3.6/9.6 MB 4.0 MB/s eta 0:00:02\n",
      "   --------------- ------------------------ 3.8/9.6 MB 4.0 MB/s eta 0:00:02\n",
      "   ---------------- ----------------------- 4.0/9.6 MB 4.0 MB/s eta 0:00:02\n",
      "   ----------------- ---------------------- 4.2/9.6 MB 4.0 MB/s eta 0:00:02\n",
      "   ------------------ --------------------- 4.4/9.6 MB 4.0 MB/s eta 0:00:02\n",
      "   ------------------- -------------------- 4.6/9.6 MB 4.0 MB/s eta 0:00:02\n",
      "   -------------------- ------------------- 4.8/9.6 MB 4.1 MB/s eta 0:00:02\n",
      "   --------------------- ------------------ 5.0/9.6 MB 4.1 MB/s eta 0:00:02\n",
      "   --------------------- ------------------ 5.3/9.6 MB 4.1 MB/s eta 0:00:02\n",
      "   ---------------------- ----------------- 5.4/9.6 MB 4.1 MB/s eta 0:00:02\n",
      "   ----------------------- ---------------- 5.6/9.6 MB 4.1 MB/s eta 0:00:01\n",
      "   ------------------------ --------------- 5.8/9.6 MB 4.0 MB/s eta 0:00:01\n",
      "   ------------------------ --------------- 6.0/9.6 MB 4.1 MB/s eta 0:00:01\n",
      "   ------------------------- -------------- 6.2/9.6 MB 4.1 MB/s eta 0:00:01\n",
      "   -------------------------- ------------- 6.4/9.6 MB 4.1 MB/s eta 0:00:01\n",
      "   --------------------------- ------------ 6.6/9.6 MB 4.1 MB/s eta 0:00:01\n",
      "   ---------------------------- ----------- 6.8/9.6 MB 4.1 MB/s eta 0:00:01\n",
      "   ----------------------------- ---------- 7.0/9.6 MB 4.1 MB/s eta 0:00:01\n",
      "   ------------------------------ --------- 7.2/9.6 MB 4.1 MB/s eta 0:00:01\n",
      "   ------------------------------- -------- 7.4/9.6 MB 4.1 MB/s eta 0:00:01\n",
      "   ------------------------------- -------- 7.7/9.6 MB 4.2 MB/s eta 0:00:01\n",
      "   -------------------------------- ------- 7.9/9.6 MB 4.2 MB/s eta 0:00:01\n",
      "   --------------------------------- ------ 8.1/9.6 MB 4.2 MB/s eta 0:00:01\n",
      "   ---------------------------------- ----- 8.3/9.6 MB 4.2 MB/s eta 0:00:01\n",
      "   ----------------------------------- ---- 8.5/9.6 MB 4.2 MB/s eta 0:00:01\n",
      "   ------------------------------------ --- 8.7/9.6 MB 4.2 MB/s eta 0:00:01\n",
      "   ------------------------------------- -- 9.0/9.6 MB 4.2 MB/s eta 0:00:01\n",
      "   -------------------------------------- - 9.2/9.6 MB 4.2 MB/s eta 0:00:01\n",
      "   ---------------------------------------  9.4/9.6 MB 4.2 MB/s eta 0:00:01\n",
      "   ---------------------------------------  9.6/9.6 MB 4.2 MB/s eta 0:00:01\n",
      "   ---------------------------------------  9.6/9.6 MB 4.2 MB/s eta 0:00:01\n",
      "   ---------------------------------------  9.6/9.6 MB 4.2 MB/s eta 0:00:01\n",
      "   ---------------------------------------- 9.6/9.6 MB 4.0 MB/s eta 0:00:00\n",
      "Installing collected packages: babel\n",
      "Successfully installed babel-2.16.0\n",
      "Note: you may need to restart the kernel to use updated packages.\n"
     ]
    },
    {
     "name": "stderr",
     "output_type": "stream",
     "text": [
      "WARNING: Ignoring invalid distribution -ip (d:\\installation\\python\\lib\\site-packages)\n",
      "WARNING: Ignoring invalid distribution -ip (d:\\installation\\python\\lib\\site-packages)\n"
     ]
    }
   ],
   "source": [
    "pip install babel"
   ]
  },
  {
   "cell_type": "code",
   "execution_count": 2,
   "metadata": {},
   "outputs": [
    {
     "name": "stderr",
     "output_type": "stream",
     "text": [
      "2024-10-02 23:20:24.715 WARNING streamlit.runtime.scriptrunner_utils.script_run_context: Thread 'MainThread': missing ScriptRunContext! This warning can be ignored when running in bare mode.\n",
      "2024-10-02 23:20:25.480 \n",
      "  \u001b[33m\u001b[1mWarning:\u001b[0m to view this Streamlit app on a browser, run it with the following\n",
      "  command:\n",
      "\n",
      "    streamlit run C:\\Users\\marse\\AppData\\Roaming\\Python\\Python310\\site-packages\\ipykernel_launcher.py [ARGUMENTS]\n",
      "2024-10-02 23:20:25.481 Thread 'MainThread': missing ScriptRunContext! This warning can be ignored when running in bare mode.\n",
      "2024-10-02 23:20:25.482 Thread 'MainThread': missing ScriptRunContext! This warning can be ignored when running in bare mode.\n",
      "2024-10-02 23:20:25.483 Thread 'MainThread': missing ScriptRunContext! This warning can be ignored when running in bare mode.\n"
     ]
    }
   ],
   "source": [
    "import streamlit as st \n",
    " \n",
    "st.write(\n",
    "    \"\"\"\n",
    "    # My first app\n",
    "    Hello, para calon praktisi data masa depan!\n",
    "    \"\"\"\n",
    ")"
   ]
  }
 ],
 "metadata": {
  "kernelspec": {
   "display_name": "Python 3",
   "language": "python",
   "name": "python3"
  },
  "language_info": {
   "codemirror_mode": {
    "name": "ipython",
    "version": 3
   },
   "file_extension": ".py",
   "mimetype": "text/x-python",
   "name": "python",
   "nbconvert_exporter": "python",
   "pygments_lexer": "ipython3",
   "version": "3.10.8"
  }
 },
 "nbformat": 4,
 "nbformat_minor": 2
}
